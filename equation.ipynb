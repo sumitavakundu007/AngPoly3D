\begin{align}
$q_{ref}^{\dagger}q_i = \exp(\dfrac{i}{2} \theta \hat{n} \dot \vec{\sigma}) = \cos(\dfrac{\theta}{2}) + i \hat{n} \dot \vec{\sigma} \sin(\dfrac{\theta}{2})$
\end{align}
